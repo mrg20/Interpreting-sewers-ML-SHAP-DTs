{
 "cells": [
  {
   "cell_type": "code",
   "execution_count": 1,
   "id": "b72f08b8",
   "metadata": {},
   "outputs": [],
   "source": [
    "import pandas as pd\n",
    "\n",
    "df = pd.read_csv('../scorewater/data/final/dtdata.csv', index_col=0)"
   ]
  },
  {
   "cell_type": "code",
   "execution_count": 2,
   "id": "34e25425",
   "metadata": {},
   "outputs": [],
   "source": [
    "new_column_names = ['section', 'Height', 'width', 'perimeter', 'Length', 'Speed',\n",
    "                   'WaterHeight', 'Flow', 'section_1', 'Height_1', 'width_1', 'perimeter_1',\n",
    "                   'Length_1', 'Speed_1', 'WaterHeight_1', 'Flow_1', 'section_2',\n",
    "                   'Height_2', 'width_2', 'perimeter_2', 'Length_2', 'Speed_2',\n",
    "                   'WaterHeight_2', 'Flow_2', 'section_3', 'Height_3', 'width_3',\n",
    "                   'perimeter_3', 'Length_3', 'Speed_3', 'WaterHeight_3', 'Flow_3',\n",
    "                   'section_4', 'Height_4', 'width_4', 'perimeter_4', 'Length_4',\n",
    "                   'Speed_4', 'WaterHeight_4', 'Flow_4', 'section_5', 'Height_5',\n",
    "                   'width_5', 'perimeter_5', 'Length_5', 'Speed_5', 'WaterHeight_5',\n",
    "                   'Flow_5', 'neighborhood']\n",
    "\n",
    "\n",
    "# Get the current column names\n",
    "current_column_names = df.columns\n",
    "\n",
    "# Replace the names of the last 49 columns\n",
    "df.columns = current_column_names[:-49].tolist() + new_column_names\n",
    "df.drop('value_2', axis=1, inplace=True)"
   ]
  },
  {
   "cell_type": "code",
   "execution_count": 3,
   "id": "582d4487",
   "metadata": {},
   "outputs": [],
   "source": [
    "from sklearn.metrics import accuracy_score, precision_score, recall_score, f1_score, make_scorer, classification_report, confusion_matrix\n",
    "from sklearn.model_selection import cross_val_score\n",
    "from sklearn.model_selection import train_test_split\n",
    "from sklearn.tree import DecisionTreeClassifier\n",
    "from sklearn.metrics import f1_score\n",
    "from sklearn.base import clone\n",
    "from sklearn.datasets import make_classification"
   ]
  },
  {
   "cell_type": "markdown",
   "id": "f8db3cba",
   "metadata": {},
   "source": [
    "# Training a tree with only the features of the section to be predicted"
   ]
  },
  {
   "cell_type": "code",
   "execution_count": 4,
   "id": "ac2d7556",
   "metadata": {},
   "outputs": [],
   "source": [
    "X = df.drop(df.filter(regex=(\"(_[0-5]_[0-5]|_[2-5])\")).columns, \n",
    "        axis=1)\n",
    "y= X['value_y']\n",
    "X.drop(['amount_rain_std_1', 'amount_rain_mean_1', 'Height_1',\n",
    "        'Length_1', 'Speed_1', 'Flow_1', 'value_y',\n",
    "        'section_1', 'width_1', 'perimeter_1', 'WaterHeight_1'],\n",
    "       axis=1, inplace=True)"
   ]
  },
  {
   "cell_type": "code",
   "execution_count": 5,
   "id": "87318da0",
   "metadata": {},
   "outputs": [],
   "source": [
    "# Split the dataset into training and testing sets\n",
    "X_train, X_test, y_train, y_test = train_test_split(X, y, test_size=0.1, random_state=42)"
   ]
  },
  {
   "cell_type": "code",
   "execution_count": 6,
   "id": "240bd0b9",
   "metadata": {},
   "outputs": [
    {
     "name": "stdout",
     "output_type": "stream",
     "text": [
      "100%|███████| 50/50 [00:02<00:00, 21.09trial/s, best loss: -0.645533824053137]\n",
      "{'max_depth': 9, 'max_features': 0.8914389773839586, 'min_samples_leaf': 7, 'min_samples_split': 19}\n"
     ]
    }
   ],
   "source": [
    "from hyperopt import fmin, tpe, hp, Trials, STATUS_OK\n",
    "from sklearn.model_selection import cross_val_score\n",
    "\n",
    "# Define the hyperparameter space\n",
    "space = {\n",
    "    'max_depth': hp.choice('max_depth', range(3, 10)),\n",
    "    'max_features': hp.uniform('max_features', 0.65, 1),\n",
    "    'min_samples_leaf': hp.choice('min_samples_leaf', range(3, 13)),\n",
    "    'min_samples_split': hp.choice('min_samples_split', range(10, 25))\n",
    "}\n",
    "\n",
    "# Objective function\n",
    "def objective(params):\n",
    "    classifier = DecisionTreeClassifier(**params)\n",
    "    score = cross_val_score(classifier, X_train, y_train, cv=5, scoring='f1', n_jobs=-1).mean()\n",
    "    return {'loss': -score, 'status': STATUS_OK}\n",
    "\n",
    "# Run the optimization\n",
    "trials = Trials()\n",
    "best = fmin(fn=objective, space=space, algo=tpe.suggest, max_evals=50, trials=trials)\n",
    "\n",
    "mapped_best = {\n",
    "    'max_depth': best['max_depth'] + 3,  # because range starts from 3\n",
    "    'max_features': best['max_features'],\n",
    "    'min_samples_leaf': best['min_samples_leaf'] + 3,  # because range starts from 3\n",
    "    'min_samples_split': best['min_samples_split'] + 10  # because range starts from 10\n",
    "}\n",
    "\n",
    "print(mapped_best)\n"
   ]
  },
  {
   "cell_type": "code",
   "execution_count": 7,
   "id": "335ba09a",
   "metadata": {
    "scrolled": true
   },
   "outputs": [
    {
     "data": {
      "text/html": [
       "<style>#sk-container-id-1 {color: black;}#sk-container-id-1 pre{padding: 0;}#sk-container-id-1 div.sk-toggleable {background-color: white;}#sk-container-id-1 label.sk-toggleable__label {cursor: pointer;display: block;width: 100%;margin-bottom: 0;padding: 0.3em;box-sizing: border-box;text-align: center;}#sk-container-id-1 label.sk-toggleable__label-arrow:before {content: \"▸\";float: left;margin-right: 0.25em;color: #696969;}#sk-container-id-1 label.sk-toggleable__label-arrow:hover:before {color: black;}#sk-container-id-1 div.sk-estimator:hover label.sk-toggleable__label-arrow:before {color: black;}#sk-container-id-1 div.sk-toggleable__content {max-height: 0;max-width: 0;overflow: hidden;text-align: left;background-color: #f0f8ff;}#sk-container-id-1 div.sk-toggleable__content pre {margin: 0.2em;color: black;border-radius: 0.25em;background-color: #f0f8ff;}#sk-container-id-1 input.sk-toggleable__control:checked~div.sk-toggleable__content {max-height: 200px;max-width: 100%;overflow: auto;}#sk-container-id-1 input.sk-toggleable__control:checked~label.sk-toggleable__label-arrow:before {content: \"▾\";}#sk-container-id-1 div.sk-estimator input.sk-toggleable__control:checked~label.sk-toggleable__label {background-color: #d4ebff;}#sk-container-id-1 div.sk-label input.sk-toggleable__control:checked~label.sk-toggleable__label {background-color: #d4ebff;}#sk-container-id-1 input.sk-hidden--visually {border: 0;clip: rect(1px 1px 1px 1px);clip: rect(1px, 1px, 1px, 1px);height: 1px;margin: -1px;overflow: hidden;padding: 0;position: absolute;width: 1px;}#sk-container-id-1 div.sk-estimator {font-family: monospace;background-color: #f0f8ff;border: 1px dotted black;border-radius: 0.25em;box-sizing: border-box;margin-bottom: 0.5em;}#sk-container-id-1 div.sk-estimator:hover {background-color: #d4ebff;}#sk-container-id-1 div.sk-parallel-item::after {content: \"\";width: 100%;border-bottom: 1px solid gray;flex-grow: 1;}#sk-container-id-1 div.sk-label:hover label.sk-toggleable__label {background-color: #d4ebff;}#sk-container-id-1 div.sk-serial::before {content: \"\";position: absolute;border-left: 1px solid gray;box-sizing: border-box;top: 0;bottom: 0;left: 50%;z-index: 0;}#sk-container-id-1 div.sk-serial {display: flex;flex-direction: column;align-items: center;background-color: white;padding-right: 0.2em;padding-left: 0.2em;position: relative;}#sk-container-id-1 div.sk-item {position: relative;z-index: 1;}#sk-container-id-1 div.sk-parallel {display: flex;align-items: stretch;justify-content: center;background-color: white;position: relative;}#sk-container-id-1 div.sk-item::before, #sk-container-id-1 div.sk-parallel-item::before {content: \"\";position: absolute;border-left: 1px solid gray;box-sizing: border-box;top: 0;bottom: 0;left: 50%;z-index: -1;}#sk-container-id-1 div.sk-parallel-item {display: flex;flex-direction: column;z-index: 1;position: relative;background-color: white;}#sk-container-id-1 div.sk-parallel-item:first-child::after {align-self: flex-end;width: 50%;}#sk-container-id-1 div.sk-parallel-item:last-child::after {align-self: flex-start;width: 50%;}#sk-container-id-1 div.sk-parallel-item:only-child::after {width: 0;}#sk-container-id-1 div.sk-dashed-wrapped {border: 1px dashed gray;margin: 0 0.4em 0.5em 0.4em;box-sizing: border-box;padding-bottom: 0.4em;background-color: white;}#sk-container-id-1 div.sk-label label {font-family: monospace;font-weight: bold;display: inline-block;line-height: 1.2em;}#sk-container-id-1 div.sk-label-container {text-align: center;}#sk-container-id-1 div.sk-container {/* jupyter's `normalize.less` sets `[hidden] { display: none; }` but bootstrap.min.css set `[hidden] { display: none !important; }` so we also need the `!important` here to be able to override the default hidden behavior on the sphinx rendered scikit-learn.org. See: https://github.com/scikit-learn/scikit-learn/issues/21755 */display: inline-block !important;position: relative;}#sk-container-id-1 div.sk-text-repr-fallback {display: none;}</style><div id=\"sk-container-id-1\" class=\"sk-top-container\"><div class=\"sk-text-repr-fallback\"><pre>DecisionTreeClassifier(max_depth=7, max_features=0.794612916790575,\n",
       "                       min_samples_leaf=12, min_samples_split=19,\n",
       "                       random_state=4)</pre><b>In a Jupyter environment, please rerun this cell to show the HTML representation or trust the notebook. <br />On GitHub, the HTML representation is unable to render, please try loading this page with nbviewer.org.</b></div><div class=\"sk-container\" hidden><div class=\"sk-item\"><div class=\"sk-estimator sk-toggleable\"><input class=\"sk-toggleable__control sk-hidden--visually\" id=\"sk-estimator-id-1\" type=\"checkbox\" checked><label for=\"sk-estimator-id-1\" class=\"sk-toggleable__label sk-toggleable__label-arrow\">DecisionTreeClassifier</label><div class=\"sk-toggleable__content\"><pre>DecisionTreeClassifier(max_depth=7, max_features=0.794612916790575,\n",
       "                       min_samples_leaf=12, min_samples_split=19,\n",
       "                       random_state=4)</pre></div></div></div></div></div>"
      ],
      "text/plain": [
       "DecisionTreeClassifier(max_depth=7, max_features=0.794612916790575,\n",
       "                       min_samples_leaf=12, min_samples_split=19,\n",
       "                       random_state=4)"
      ]
     },
     "execution_count": 7,
     "metadata": {},
     "output_type": "execute_result"
    }
   ],
   "source": [
    "best_classifier = DecisionTreeClassifier(**{'max_depth': 7, 'max_features': 0.794612916790575, 'min_samples_leaf': 12, 'min_samples_split': 19, 'random_state': 4})\n",
    "best_classifier.fit(X_train, y_train)"
   ]
  },
  {
   "cell_type": "code",
   "execution_count": 8,
   "id": "e406c570",
   "metadata": {
    "scrolled": true
   },
   "outputs": [
    {
     "data": {
      "text/plain": [
       "{'Accuracy': 0.7486910994764397,\n",
       " 'Precision': 0.7183098591549296,\n",
       " 'Recall': 0.6455696202531646,\n",
       " 'F1 Score': 0.6799999999999999,\n",
       " 'ROC-AUC': 0.797129294755877}"
      ]
     },
     "execution_count": 8,
     "metadata": {},
     "output_type": "execute_result"
    }
   ],
   "source": [
    "from sklearn.metrics import precision_score, recall_score, f1_score, roc_auc_score\n",
    "\n",
    "# Predict using the best model\n",
    "y_pred_test_expanded = best_classifier.predict(X_test)\n",
    "y_prob_test_expanded = best_classifier.predict_proba(X_test)[:, 1]\n",
    "\n",
    "# Calculate the performance metrics for the test set\n",
    "test_metrics = {\n",
    "    'Accuracy': accuracy_score(y_test, y_pred_test_expanded),\n",
    "    'Precision': precision_score(y_test, y_pred_test_expanded),\n",
    "    'Recall': recall_score(y_test, y_pred_test_expanded),\n",
    "    'F1 Score': f1_score(y_test, y_pred_test_expanded),\n",
    "    'ROC-AUC': roc_auc_score(y_test, y_prob_test_expanded)\n",
    "}\n",
    "\n",
    "test_metrics\n"
   ]
  },
  {
   "cell_type": "code",
   "execution_count": 9,
   "id": "f24aa249",
   "metadata": {},
   "outputs": [
    {
     "data": {
      "text/plain": [
       "[('value_0', 0.26834659383736753),\n",
       " ('value_1', 0.17602186756164576),\n",
       " ('Height', 0.09707730365177875),\n",
       " ('amount_rain_std', 0.0947790746255444),\n",
       " ('amount_rain_mean', 0.08649267823277969),\n",
       " ('WaterHeight', 0.06940819059675365),\n",
       " ('perimeter', 0.06905506613010984),\n",
       " ('Speed', 0.0638872713317141),\n",
       " ('width', 0.03334310904079411),\n",
       " ('Flow', 0.021897676509956925),\n",
       " ('Length', 0.011480154827506552),\n",
       " ('section', 0.008211013654048542),\n",
       " ('cleaning_applied_0', 0.0),\n",
       " ('cleaning_applied_1', 0.0),\n",
       " ('neighborhood', 0.0)]"
      ]
     },
     "execution_count": 9,
     "metadata": {},
     "output_type": "execute_result"
    }
   ],
   "source": [
    "feature_importance_dict = dict(zip(X_test.columns, best_classifier.feature_importances_))\n",
    "\n",
    "# Sort the dictionary based on importances\n",
    "sorted_feature_importance = sorted(feature_importance_dict.items(), key=lambda x: x[1], reverse=True)\n",
    "\n",
    "sorted_feature_importance"
   ]
  },
  {
   "cell_type": "markdown",
   "id": "cc61bbe5",
   "metadata": {},
   "source": [
    "# Best possible decision tree"
   ]
  },
  {
   "cell_type": "markdown",
   "id": "6c5d7ef6",
   "metadata": {},
   "source": [
    "The idea is to get the best possible tree, hyperparameter and feature - wise."
   ]
  },
  {
   "cell_type": "code",
   "execution_count": 10,
   "id": "4c51dc88",
   "metadata": {},
   "outputs": [],
   "source": [
    "X = df.drop(columns=['value_y'])\n",
    "y = df['value_y']\n",
    "\n",
    "# Split the dataset into training and testing sets\n",
    "X_train, X_test, y_train, y_test = train_test_split(X, y, test_size=0.1, random_state=42)"
   ]
  },
  {
   "cell_type": "code",
   "execution_count": 12,
   "id": "5d376238",
   "metadata": {
    "scrolled": true
   },
   "outputs": [
    {
     "name": "stdout",
     "output_type": "stream",
     "text": [
      "Best F1 Score: 0.787878787878788\n",
      "Best Features: ['Speed', 'value_1_5', 'amount_rain_std', 'value_1_2', 'value_1', 'value_1_3', 'WaterHeight_5', 'amount_rain_mean_1', 'value_0_2', 'Length_1', 'WaterHeight_2', 'amount_rain_mean', 'Height', 'Speed_3', 'amount_rain_std_4', 'value_0_1', 'value_1_1', 'amount_rain_std_2', 'value_0_5', 'Height_1', 'amount_rain_std_5', 'value_0', 'amount_rain_mean_3', 'WaterHeight_1', 'Height_5', 'value_0_4', 'WaterHeight', 'amount_rain_std_1', 'amount_rain_mean_2', 'section', 'WaterHeight_4', 'amount_rain_std_3', 'Flow_2', 'Speed_4', 'amount_rain_mean_5', 'perimeter_1', 'Length_2', 'Length_5', 'value_1_4', 'section_2', 'Length', 'Speed_1', 'Length_4', 'value_0_3', 'amount_rain_mean_4', 'Length_3', 'Flow', 'WaterHeight_3', 'perimeter', 'Speed_2', 'cleaning_applied_0_3', 'Speed_5', 'width_1', 'cleaning_applied_0']\n",
      "Best Hyperparameters: {'max_depth': 9, 'max_features': 0.6705238207004262, 'min_samples_leaf': 0, 'min_samples_split': 12}\n"
     ]
    }
   ],
   "source": [
    "from sklearn.feature_selection import RFE\n",
    "from hyperopt import fmin, tpe, hp, Trials, STATUS_OK\n",
    "from sklearn.tree import DecisionTreeClassifier\n",
    "from sklearn.metrics import f1_score\n",
    "\n",
    "# Define the hyperparameter space\n",
    "space = {\n",
    "    'max_depth': hp.choice('max_depth', range(3, 20)),\n",
    "    'max_features': hp.uniform('max_features', 0.65, 0.95),\n",
    "    'min_samples_leaf': hp.choice('min_samples_leaf', range(3, 20)),\n",
    "    'min_samples_split': hp.choice('min_samples_split', range(10, 35))\n",
    "}\n",
    "\n",
    "def objective(params, X_train_sub, y_train, X_test_sub, y_test):\n",
    "    classifier = DecisionTreeClassifier(**params)\n",
    "    classifier.fit(X_train_sub, y_train)\n",
    "    preds = classifier.predict(X_test_sub)\n",
    "    score = f1_score(y_test, preds)\n",
    "    return {'loss': -score, 'status': STATUS_OK}\n",
    "\n",
    "best_f1_global = float('-inf')\n",
    "best_features_global = None\n",
    "best_hyperparameters_global = None\n",
    "\n",
    "# Apply RFE to get the ranking of features\n",
    "estimator = DecisionTreeClassifier()\n",
    "selector = RFE(estimator, n_features_to_select=1, step=1)\n",
    "selector = selector.fit(X_train, y_train)\n",
    "rankings = selector.ranking_\n",
    "features = selector.feature_names_in_\n",
    "\n",
    "# Sort features by their ranking\n",
    "sorted_features = [f for _, f in sorted(zip(rankings, features))]\n",
    "\n",
    "# Iterate over features based on their ranking\n",
    "for i in range(1, len(sorted_features) + 1):\n",
    "    selected_features = sorted_features[:i]\n",
    "\n",
    "    # Bayesian optimization for the current feature combination\n",
    "    trials = Trials()\n",
    "    best_hyperparams = fmin(fn=lambda params: objective(params, X_train[selected_features], y_train, X_test[selected_features], y_test),\n",
    "                            space=space, algo=tpe.suggest, max_evals=50, trials=trials, verbose=False)\n",
    "\n",
    "    # Check the best F1 score for the current feature combination\n",
    "    best_f1_current = -trials.best_trial['result']['loss']\n",
    "\n",
    "    if best_f1_current > best_f1_global:\n",
    "        best_f1_global = best_f1_current\n",
    "        best_features_global = selected_features\n",
    "        best_hyperparameters_global = best_hyperparams\n",
    "\n",
    "print(\"Best F1 Score:\", best_f1_global)\n",
    "print(\"Best Features:\", best_features_global)\n",
    "print(\"Best Hyperparameters:\", best_hyperparameters_global)\n"
   ]
  },
  {
   "cell_type": "code",
   "execution_count": 13,
   "id": "ff13a52a",
   "metadata": {},
   "outputs": [],
   "source": [
    "mapped_best = {\n",
    "    'max_depth': best_hyperparameters_global['max_depth'] + 3,  # because range starts from 3\n",
    "    'max_features': best_hyperparameters_global['max_features'],\n",
    "    'min_samples_leaf': best_hyperparameters_global['min_samples_leaf'] + 3,  # because range starts from 3\n",
    "    'min_samples_split': best_hyperparameters_global['min_samples_split'] + 10  # because range starts from 10\n",
    "}"
   ]
  },
  {
   "cell_type": "code",
   "execution_count": 14,
   "id": "68c6c56b",
   "metadata": {
    "scrolled": true
   },
   "outputs": [
    {
     "data": {
      "text/html": [
       "<style>#sk-container-id-2 {color: black;}#sk-container-id-2 pre{padding: 0;}#sk-container-id-2 div.sk-toggleable {background-color: white;}#sk-container-id-2 label.sk-toggleable__label {cursor: pointer;display: block;width: 100%;margin-bottom: 0;padding: 0.3em;box-sizing: border-box;text-align: center;}#sk-container-id-2 label.sk-toggleable__label-arrow:before {content: \"▸\";float: left;margin-right: 0.25em;color: #696969;}#sk-container-id-2 label.sk-toggleable__label-arrow:hover:before {color: black;}#sk-container-id-2 div.sk-estimator:hover label.sk-toggleable__label-arrow:before {color: black;}#sk-container-id-2 div.sk-toggleable__content {max-height: 0;max-width: 0;overflow: hidden;text-align: left;background-color: #f0f8ff;}#sk-container-id-2 div.sk-toggleable__content pre {margin: 0.2em;color: black;border-radius: 0.25em;background-color: #f0f8ff;}#sk-container-id-2 input.sk-toggleable__control:checked~div.sk-toggleable__content {max-height: 200px;max-width: 100%;overflow: auto;}#sk-container-id-2 input.sk-toggleable__control:checked~label.sk-toggleable__label-arrow:before {content: \"▾\";}#sk-container-id-2 div.sk-estimator input.sk-toggleable__control:checked~label.sk-toggleable__label {background-color: #d4ebff;}#sk-container-id-2 div.sk-label input.sk-toggleable__control:checked~label.sk-toggleable__label {background-color: #d4ebff;}#sk-container-id-2 input.sk-hidden--visually {border: 0;clip: rect(1px 1px 1px 1px);clip: rect(1px, 1px, 1px, 1px);height: 1px;margin: -1px;overflow: hidden;padding: 0;position: absolute;width: 1px;}#sk-container-id-2 div.sk-estimator {font-family: monospace;background-color: #f0f8ff;border: 1px dotted black;border-radius: 0.25em;box-sizing: border-box;margin-bottom: 0.5em;}#sk-container-id-2 div.sk-estimator:hover {background-color: #d4ebff;}#sk-container-id-2 div.sk-parallel-item::after {content: \"\";width: 100%;border-bottom: 1px solid gray;flex-grow: 1;}#sk-container-id-2 div.sk-label:hover label.sk-toggleable__label {background-color: #d4ebff;}#sk-container-id-2 div.sk-serial::before {content: \"\";position: absolute;border-left: 1px solid gray;box-sizing: border-box;top: 0;bottom: 0;left: 50%;z-index: 0;}#sk-container-id-2 div.sk-serial {display: flex;flex-direction: column;align-items: center;background-color: white;padding-right: 0.2em;padding-left: 0.2em;position: relative;}#sk-container-id-2 div.sk-item {position: relative;z-index: 1;}#sk-container-id-2 div.sk-parallel {display: flex;align-items: stretch;justify-content: center;background-color: white;position: relative;}#sk-container-id-2 div.sk-item::before, #sk-container-id-2 div.sk-parallel-item::before {content: \"\";position: absolute;border-left: 1px solid gray;box-sizing: border-box;top: 0;bottom: 0;left: 50%;z-index: -1;}#sk-container-id-2 div.sk-parallel-item {display: flex;flex-direction: column;z-index: 1;position: relative;background-color: white;}#sk-container-id-2 div.sk-parallel-item:first-child::after {align-self: flex-end;width: 50%;}#sk-container-id-2 div.sk-parallel-item:last-child::after {align-self: flex-start;width: 50%;}#sk-container-id-2 div.sk-parallel-item:only-child::after {width: 0;}#sk-container-id-2 div.sk-dashed-wrapped {border: 1px dashed gray;margin: 0 0.4em 0.5em 0.4em;box-sizing: border-box;padding-bottom: 0.4em;background-color: white;}#sk-container-id-2 div.sk-label label {font-family: monospace;font-weight: bold;display: inline-block;line-height: 1.2em;}#sk-container-id-2 div.sk-label-container {text-align: center;}#sk-container-id-2 div.sk-container {/* jupyter's `normalize.less` sets `[hidden] { display: none; }` but bootstrap.min.css set `[hidden] { display: none !important; }` so we also need the `!important` here to be able to override the default hidden behavior on the sphinx rendered scikit-learn.org. See: https://github.com/scikit-learn/scikit-learn/issues/21755 */display: inline-block !important;position: relative;}#sk-container-id-2 div.sk-text-repr-fallback {display: none;}</style><div id=\"sk-container-id-2\" class=\"sk-top-container\"><div class=\"sk-text-repr-fallback\"><pre>DecisionTreeClassifier(max_depth=16, max_features=0.9360168327534356,\n",
       "                       min_samples_leaf=5, min_samples_split=11,\n",
       "                       random_state=4)</pre><b>In a Jupyter environment, please rerun this cell to show the HTML representation or trust the notebook. <br />On GitHub, the HTML representation is unable to render, please try loading this page with nbviewer.org.</b></div><div class=\"sk-container\" hidden><div class=\"sk-item\"><div class=\"sk-estimator sk-toggleable\"><input class=\"sk-toggleable__control sk-hidden--visually\" id=\"sk-estimator-id-2\" type=\"checkbox\" checked><label for=\"sk-estimator-id-2\" class=\"sk-toggleable__label sk-toggleable__label-arrow\">DecisionTreeClassifier</label><div class=\"sk-toggleable__content\"><pre>DecisionTreeClassifier(max_depth=16, max_features=0.9360168327534356,\n",
       "                       min_samples_leaf=5, min_samples_split=11,\n",
       "                       random_state=4)</pre></div></div></div></div></div>"
      ],
      "text/plain": [
       "DecisionTreeClassifier(max_depth=16, max_features=0.9360168327534356,\n",
       "                       min_samples_leaf=5, min_samples_split=11,\n",
       "                       random_state=4)"
      ]
     },
     "execution_count": 14,
     "metadata": {},
     "output_type": "execute_result"
    }
   ],
   "source": [
    "best_classifier = DecisionTreeClassifier(**{'max_depth': 16, 'max_features': 0.9360168327534356, 'min_samples_leaf': 5, 'min_samples_split': 11, 'random_state': 4})\n",
    "best_classifier.fit(X_train[best_features_global], y_train)"
   ]
  },
  {
   "cell_type": "code",
   "execution_count": 15,
   "id": "8fb2941d",
   "metadata": {},
   "outputs": [
    {
     "data": {
      "text/plain": [
       "{'Accuracy': 0.6387434554973822,\n",
       " 'Precision': 0.5757575757575758,\n",
       " 'Recall': 0.4810126582278481,\n",
       " 'F1 Score': 0.5241379310344828,\n",
       " 'ROC-AUC': 0.7137771247739602}"
      ]
     },
     "execution_count": 15,
     "metadata": {},
     "output_type": "execute_result"
    }
   ],
   "source": [
    "from sklearn.metrics import precision_score, recall_score, f1_score, roc_auc_score\n",
    "\n",
    "# Predict using the best model\n",
    "y_pred_test_expanded = best_classifier.predict(X_test[best_features_global])\n",
    "y_prob_test_expanded = best_classifier.predict_proba(X_test[best_features_global])[:, 1]\n",
    "\n",
    "# Calculate the performance metrics for the test set\n",
    "test_metrics = {\n",
    "    'Accuracy': accuracy_score(y_test, y_pred_test_expanded),\n",
    "    'Precision': precision_score(y_test, y_pred_test_expanded),\n",
    "    'Recall': recall_score(y_test, y_pred_test_expanded),\n",
    "    'F1 Score': f1_score(y_test, y_pred_test_expanded),\n",
    "    'ROC-AUC': roc_auc_score(y_test, y_prob_test_expanded)\n",
    "}\n",
    "\n",
    "test_metrics"
   ]
  },
  {
   "cell_type": "markdown",
   "id": "0b059662",
   "metadata": {},
   "source": [
    "```\n",
    "['amount_rain_std', 'value_1_5', 'value_1_3', 'value_1_2', 'altmax', 'value_1', 'Velocitat', 'amount_rain_mean_1', 'Longitud_1']\n",
    "\n",
    "{'max_depth': 16, 'max_features': 0.9360168327534356, 'min_samples_leaf': 5, 'min_samples_split': 11}\n",
    "\n",
    "{'Accuracy': 0.774869109947644,\n",
    " 'Precision': 0.725,\n",
    " 'Recall': 0.7341772151898734,\n",
    " 'F1 Score': 0.7295597484276729,\n",
    " 'ROC-AUC': 0.8261188969258589}\n",
    " ```"
   ]
  },
  {
   "cell_type": "code",
   "execution_count": 16,
   "id": "f64316d5",
   "metadata": {},
   "outputs": [
    {
     "data": {
      "text/plain": [
       "[('value_1_5', 0.17584661274412683),\n",
       " ('value_1_2', 0.06956306503854688),\n",
       " ('value_1_3', 0.06052757184879837),\n",
       " ('value_1_1', 0.04662567350461004),\n",
       " ('Height', 0.03996996385755103),\n",
       " ('amount_rain_mean', 0.03949048100729776),\n",
       " ('value_0_2', 0.03488305887582792),\n",
       " ('Speed_1', 0.029088090009819666),\n",
       " ('Length_1', 0.028185133376082146),\n",
       " ('WaterHeight_2', 0.026476977955074872),\n",
       " ('amount_rain_std_1', 0.026291712303949926),\n",
       " ('Height_5', 0.024660908395500027),\n",
       " ('Speed', 0.024478024592347058),\n",
       " ('value_0_5', 0.02352228996297853),\n",
       " ('value_1', 0.021090348268464346),\n",
       " ('amount_rain_mean_2', 0.020099648325705207),\n",
       " ('Length', 0.0179686906173269),\n",
       " ('value_0_1', 0.016576157050927916),\n",
       " ('amount_rain_mean_5', 0.016203884995347095),\n",
       " ('Speed_2', 0.01609756901960785),\n",
       " ('value_1_4', 0.016061429125964366),\n",
       " ('Speed_4', 0.015400717975520308),\n",
       " ('amount_rain_std', 0.015321389411004882),\n",
       " ('value_0_3', 0.014594775090337003),\n",
       " ('Length_2', 0.013672034718322934),\n",
       " ('WaterHeight_5', 0.012123307134006304),\n",
       " ('Speed_3', 0.011344739562516899),\n",
       " ('Speed_5', 0.011222582017344138),\n",
       " ('perimeter', 0.011089235346264785),\n",
       " ('Length_4', 0.010864302808535002),\n",
       " ('WaterHeight', 0.010588838101429405),\n",
       " ('amount_rain_std_5', 0.009901023553728043),\n",
       " ('value_0_4', 0.009369524767512634),\n",
       " ('WaterHeight_4', 0.009224952679896366),\n",
       " ('perimeter_1', 0.009075638072601326),\n",
       " ('section_2', 0.009059037208768076),\n",
       " ('amount_rain_std_4', 0.00877885148791039),\n",
       " ('amount_rain_std_3', 0.008130816157628278),\n",
       " ('Flow_2', 0.00775632751778687),\n",
       " ('amount_rain_mean_3', 0.007461947263567345),\n",
       " ('Length_5', 0.0068267325051365796),\n",
       " ('value_0', 0.003977978394244739),\n",
       " ('cleaning_applied_0', 0.0034176084628929474),\n",
       " ('section', 0.002962973208728794),\n",
       " ('WaterHeight_1', 0.0025517834048816523),\n",
       " ('amount_rain_mean_1', 0.0015755922735795952),\n",
       " ('amount_rain_std_2', 0.0),\n",
       " ('Height_1', 0.0),\n",
       " ('amount_rain_mean_4', 0.0),\n",
       " ('Length_3', 0.0),\n",
       " ('Flow', 0.0),\n",
       " ('WaterHeight_3', 0.0),\n",
       " ('cleaning_applied_0_3', 0.0),\n",
       " ('width_1', 0.0)]"
      ]
     },
     "execution_count": 16,
     "metadata": {},
     "output_type": "execute_result"
    }
   ],
   "source": [
    "feature_importance_dict = dict(zip(best_features_global, best_classifier.feature_importances_))\n",
    "\n",
    "# Sort the dictionary based on importances\n",
    "sorted_feature_importance = sorted(feature_importance_dict.items(), key=lambda x: x[1], reverse=True)\n",
    "\n",
    "sorted_feature_importance"
   ]
  },
  {
   "cell_type": "code",
   "execution_count": null,
   "id": "c3c49ed8",
   "metadata": {},
   "outputs": [],
   "source": []
  }
 ],
 "metadata": {
  "kernelspec": {
   "display_name": "Python 3 (ipykernel)",
   "language": "python",
   "name": "python3"
  },
  "language_info": {
   "codemirror_mode": {
    "name": "ipython",
    "version": 3
   },
   "file_extension": ".py",
   "mimetype": "text/x-python",
   "name": "python",
   "nbconvert_exporter": "python",
   "pygments_lexer": "ipython3",
   "version": "3.11.4"
  }
 },
 "nbformat": 4,
 "nbformat_minor": 5
}
