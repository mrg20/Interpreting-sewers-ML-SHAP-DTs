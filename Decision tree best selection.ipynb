{
 "cells": [
  {
   "cell_type": "code",
   "execution_count": 106,
   "id": "b72f08b8",
   "metadata": {},
   "outputs": [],
   "source": [
    "import pandas as pd\n",
    "\n",
    "df = pd.read_csv('../../../data/final/dtdata.csv', index_col=0)"
   ]
  },
  {
   "cell_type": "code",
   "execution_count": 107,
   "id": "34e25425",
   "metadata": {},
   "outputs": [],
   "source": [
    "new_column_names = ['seccio', 'altmax', 'amplmax', 'perime', 'Longitud', 'Velocitat',\n",
    "                   'AltAigua', 'Cabal', 'seccio_1', 'altmax_1', 'amplmax_1', 'perime_1',\n",
    "                   'Longitud_1', 'Velocitat_1', 'AltAigua_1', 'Cabal_1', 'seccio_2',\n",
    "                   'altmax_2', 'amplmax_2', 'perime_2', 'Longitud_2', 'Velocitat_2',\n",
    "                   'AltAigua_2', 'Cabal_2', 'seccio_3', 'altmax_3', 'amplmax_3',\n",
    "                   'perime_3', 'Longitud_3', 'Velocitat_3', 'AltAigua_3', 'Cabal_3',\n",
    "                   'seccio_4', 'altmax_4', 'amplmax_4', 'perime_4', 'Longitud_4',\n",
    "                   'Velocitat_4', 'AltAigua_4', 'Cabal_4', 'seccio_5', 'altmax_5',\n",
    "                   'amplmax_5', 'perime_5', 'Longitud_5', 'Velocitat_5', 'AltAigua_5',\n",
    "                   'Cabal_5', 'barri']\n",
    "\n",
    "# Get the current column names\n",
    "current_column_names = df.columns\n",
    "\n",
    "# Replace the names of the last 49 columns\n",
    "df.columns = current_column_names[:-49].tolist() + new_column_names\n",
    "df.drop('value_2', axis=1, inplace=True)"
   ]
  },
  {
   "cell_type": "code",
   "execution_count": 109,
   "id": "582d4487",
   "metadata": {},
   "outputs": [],
   "source": [
    "from sklearn.metrics import accuracy_score, precision_score, recall_score, f1_score, make_scorer, classification_report, confusion_matrix\n",
    "from sklearn.model_selection import cross_val_score\n",
    "from sklearn.model_selection import train_test_split\n",
    "from sklearn.tree import DecisionTreeClassifier\n",
    "from sklearn.metrics import f1_score\n",
    "from sklearn.base import clone\n",
    "from sklearn.datasets import make_classification"
   ]
  },
  {
   "cell_type": "markdown",
   "id": "f8db3cba",
   "metadata": {},
   "source": [
    "# Training a tree with only the features of the section to be predicted"
   ]
  },
  {
   "cell_type": "code",
   "execution_count": 234,
   "id": "ac2d7556",
   "metadata": {},
   "outputs": [],
   "source": [
    "X = df.drop(df.filter(regex=(\"(_[0-5]_[0-5]|_[2-5])\")).columns, \n",
    "        axis=1)\n",
    "y= X['value_y']\n",
    "X.drop(['amount_rain_std_1', 'amount_rain_mean_1', 'altmax_1',\n",
    "        'Longitud_1', 'Velocitat_1', 'Cabal_1', 'value_y',\n",
    "        'seccio_1', 'amplmax_1', 'perime_1', 'AltAigua_1'],\n",
    "       axis=1, inplace=True)"
   ]
  },
  {
   "cell_type": "code",
   "execution_count": 235,
   "id": "87318da0",
   "metadata": {},
   "outputs": [],
   "source": [
    "# Split the dataset into training and testing sets\n",
    "X_train, X_test, y_train, y_test = train_test_split(X, y, test_size=0.1, random_state=42)"
   ]
  },
  {
   "cell_type": "code",
   "execution_count": 239,
   "id": "240bd0b9",
   "metadata": {},
   "outputs": [
    {
     "name": "stdout",
     "output_type": "stream",
     "text": [
      "100%|████████████| 50/50 [00:00<00:00, 61.96trial/s, best loss: -0.6378706350611265]\n",
      "{'max_depth': 5, 'max_features': 0.9937901571090159, 'min_samples_leaf': 12, 'min_samples_split': 24}\n"
     ]
    }
   ],
   "source": [
    "from hyperopt import fmin, tpe, hp, Trials, STATUS_OK\n",
    "from sklearn.model_selection import cross_val_score\n",
    "\n",
    "# Define the hyperparameter space\n",
    "space = {\n",
    "    'max_depth': hp.choice('max_depth', range(3, 10)),\n",
    "    'max_features': hp.uniform('max_features', 0.65, 1),\n",
    "    'min_samples_leaf': hp.choice('min_samples_leaf', range(3, 13)),\n",
    "    'min_samples_split': hp.choice('min_samples_split', range(10, 25))\n",
    "}\n",
    "\n",
    "# Objective function\n",
    "def objective(params):\n",
    "    classifier = DecisionTreeClassifier(**params)\n",
    "    score = cross_val_score(classifier, X_train, y_train, cv=5, scoring='f1', n_jobs=-1).mean()\n",
    "    return {'loss': -score, 'status': STATUS_OK}\n",
    "\n",
    "# Run the optimization\n",
    "trials = Trials()\n",
    "best = fmin(fn=objective, space=space, algo=tpe.suggest, max_evals=50, trials=trials)\n",
    "\n",
    "mapped_best = {\n",
    "    'max_depth': best['max_depth'] + 3,  # because range starts from 3\n",
    "    'max_features': best['max_features'],\n",
    "    'min_samples_leaf': best['min_samples_leaf'] + 3,  # because range starts from 3\n",
    "    'min_samples_split': best['min_samples_split'] + 10  # because range starts from 10\n",
    "}\n",
    "\n",
    "print(mapped_best)\n"
   ]
  },
  {
   "cell_type": "code",
   "execution_count": 242,
   "id": "335ba09a",
   "metadata": {
    "scrolled": true
   },
   "outputs": [
    {
     "data": {
      "text/html": [
       "<style>#sk-container-id-36 {color: black;}#sk-container-id-36 pre{padding: 0;}#sk-container-id-36 div.sk-toggleable {background-color: white;}#sk-container-id-36 label.sk-toggleable__label {cursor: pointer;display: block;width: 100%;margin-bottom: 0;padding: 0.3em;box-sizing: border-box;text-align: center;}#sk-container-id-36 label.sk-toggleable__label-arrow:before {content: \"▸\";float: left;margin-right: 0.25em;color: #696969;}#sk-container-id-36 label.sk-toggleable__label-arrow:hover:before {color: black;}#sk-container-id-36 div.sk-estimator:hover label.sk-toggleable__label-arrow:before {color: black;}#sk-container-id-36 div.sk-toggleable__content {max-height: 0;max-width: 0;overflow: hidden;text-align: left;background-color: #f0f8ff;}#sk-container-id-36 div.sk-toggleable__content pre {margin: 0.2em;color: black;border-radius: 0.25em;background-color: #f0f8ff;}#sk-container-id-36 input.sk-toggleable__control:checked~div.sk-toggleable__content {max-height: 200px;max-width: 100%;overflow: auto;}#sk-container-id-36 input.sk-toggleable__control:checked~label.sk-toggleable__label-arrow:before {content: \"▾\";}#sk-container-id-36 div.sk-estimator input.sk-toggleable__control:checked~label.sk-toggleable__label {background-color: #d4ebff;}#sk-container-id-36 div.sk-label input.sk-toggleable__control:checked~label.sk-toggleable__label {background-color: #d4ebff;}#sk-container-id-36 input.sk-hidden--visually {border: 0;clip: rect(1px 1px 1px 1px);clip: rect(1px, 1px, 1px, 1px);height: 1px;margin: -1px;overflow: hidden;padding: 0;position: absolute;width: 1px;}#sk-container-id-36 div.sk-estimator {font-family: monospace;background-color: #f0f8ff;border: 1px dotted black;border-radius: 0.25em;box-sizing: border-box;margin-bottom: 0.5em;}#sk-container-id-36 div.sk-estimator:hover {background-color: #d4ebff;}#sk-container-id-36 div.sk-parallel-item::after {content: \"\";width: 100%;border-bottom: 1px solid gray;flex-grow: 1;}#sk-container-id-36 div.sk-label:hover label.sk-toggleable__label {background-color: #d4ebff;}#sk-container-id-36 div.sk-serial::before {content: \"\";position: absolute;border-left: 1px solid gray;box-sizing: border-box;top: 0;bottom: 0;left: 50%;z-index: 0;}#sk-container-id-36 div.sk-serial {display: flex;flex-direction: column;align-items: center;background-color: white;padding-right: 0.2em;padding-left: 0.2em;position: relative;}#sk-container-id-36 div.sk-item {position: relative;z-index: 1;}#sk-container-id-36 div.sk-parallel {display: flex;align-items: stretch;justify-content: center;background-color: white;position: relative;}#sk-container-id-36 div.sk-item::before, #sk-container-id-36 div.sk-parallel-item::before {content: \"\";position: absolute;border-left: 1px solid gray;box-sizing: border-box;top: 0;bottom: 0;left: 50%;z-index: -1;}#sk-container-id-36 div.sk-parallel-item {display: flex;flex-direction: column;z-index: 1;position: relative;background-color: white;}#sk-container-id-36 div.sk-parallel-item:first-child::after {align-self: flex-end;width: 50%;}#sk-container-id-36 div.sk-parallel-item:last-child::after {align-self: flex-start;width: 50%;}#sk-container-id-36 div.sk-parallel-item:only-child::after {width: 0;}#sk-container-id-36 div.sk-dashed-wrapped {border: 1px dashed gray;margin: 0 0.4em 0.5em 0.4em;box-sizing: border-box;padding-bottom: 0.4em;background-color: white;}#sk-container-id-36 div.sk-label label {font-family: monospace;font-weight: bold;display: inline-block;line-height: 1.2em;}#sk-container-id-36 div.sk-label-container {text-align: center;}#sk-container-id-36 div.sk-container {/* jupyter's `normalize.less` sets `[hidden] { display: none; }` but bootstrap.min.css set `[hidden] { display: none !important; }` so we also need the `!important` here to be able to override the default hidden behavior on the sphinx rendered scikit-learn.org. See: https://github.com/scikit-learn/scikit-learn/issues/21755 */display: inline-block !important;position: relative;}#sk-container-id-36 div.sk-text-repr-fallback {display: none;}</style><div id=\"sk-container-id-36\" class=\"sk-top-container\"><div class=\"sk-text-repr-fallback\"><pre>DecisionTreeClassifier(max_depth=7, max_features=0.794612916790575,\n",
       "                       min_samples_leaf=12, min_samples_split=19)</pre><b>In a Jupyter environment, please rerun this cell to show the HTML representation or trust the notebook. <br />On GitHub, the HTML representation is unable to render, please try loading this page with nbviewer.org.</b></div><div class=\"sk-container\" hidden><div class=\"sk-item\"><div class=\"sk-estimator sk-toggleable\"><input class=\"sk-toggleable__control sk-hidden--visually\" id=\"sk-estimator-id-36\" type=\"checkbox\" checked><label for=\"sk-estimator-id-36\" class=\"sk-toggleable__label sk-toggleable__label-arrow\">DecisionTreeClassifier</label><div class=\"sk-toggleable__content\"><pre>DecisionTreeClassifier(max_depth=7, max_features=0.794612916790575,\n",
       "                       min_samples_leaf=12, min_samples_split=19)</pre></div></div></div></div></div>"
      ],
      "text/plain": [
       "DecisionTreeClassifier(max_depth=7, max_features=0.794612916790575,\n",
       "                       min_samples_leaf=12, min_samples_split=19)"
      ]
     },
     "execution_count": 242,
     "metadata": {},
     "output_type": "execute_result"
    }
   ],
   "source": [
    "best_classifier = DecisionTreeClassifier(**{'max_depth': 7, 'max_features': 0.794612916790575, 'min_samples_leaf': 12, 'min_samples_split': 19, 'random_state': 4})\n",
    "best_classifier.fit(X_train, y_train)"
   ]
  },
  {
   "cell_type": "code",
   "execution_count": 243,
   "id": "e406c570",
   "metadata": {
    "scrolled": true
   },
   "outputs": [
    {
     "data": {
      "text/plain": [
       "{'Accuracy': 0.7486910994764397,\n",
       " 'Precision': 0.746031746031746,\n",
       " 'Recall': 0.5949367088607594,\n",
       " 'F1 Score': 0.6619718309859155,\n",
       " 'ROC-AUC': 0.8067924954792045}"
      ]
     },
     "execution_count": 243,
     "metadata": {},
     "output_type": "execute_result"
    }
   ],
   "source": [
    "from sklearn.metrics import precision_score, recall_score, f1_score, roc_auc_score\n",
    "\n",
    "# Predict using the best model\n",
    "y_pred_test_expanded = best_classifier.predict(X_test)\n",
    "y_prob_test_expanded = best_classifier.predict_proba(X_test)[:, 1]\n",
    "\n",
    "# Calculate the performance metrics for the test set\n",
    "test_metrics = {\n",
    "    'Accuracy': accuracy_score(y_test, y_pred_test_expanded),\n",
    "    'Precision': precision_score(y_test, y_pred_test_expanded),\n",
    "    'Recall': recall_score(y_test, y_pred_test_expanded),\n",
    "    'F1 Score': f1_score(y_test, y_pred_test_expanded),\n",
    "    'ROC-AUC': roc_auc_score(y_test, y_prob_test_expanded)\n",
    "}\n",
    "\n",
    "test_metrics\n"
   ]
  },
  {
   "cell_type": "markdown",
   "id": "dd191a96",
   "metadata": {},
   "source": [
    "best:\n",
    "```\n",
    "{'max_depth': 7, 'max_features': 0.794612916790575, 'min_samples_leaf': 12, 'min_samples_split': 19}\n",
    "\n",
    "{'Accuracy': 0.7486910994764397,\n",
    " 'Precision': 0.746031746031746,\n",
    " 'Recall': 0.5949367088607594,\n",
    " 'F1 Score': 0.6619718309859155,\n",
    " 'ROC-AUC': 0.8067924954792045}\n",
    " ```"
   ]
  },
  {
   "cell_type": "code",
   "execution_count": 244,
   "id": "f24aa249",
   "metadata": {},
   "outputs": [
    {
     "data": {
      "text/plain": [
       "[('value_0', 0.25788450921040773),\n",
       " ('amount_rain_std', 0.15887078718324263),\n",
       " ('value_1', 0.13788963643114127),\n",
       " ('AltAigua', 0.09710192928642877),\n",
       " ('altmax', 0.09625560731922002),\n",
       " ('perime', 0.09461655442118112),\n",
       " ('Velocitat', 0.0516787840041893),\n",
       " ('amount_rain_mean', 0.042936260163940115),\n",
       " ('Cabal', 0.025239962317264466),\n",
       " ('Longitud', 0.019932951206285857),\n",
       " ('amplmax', 0.01759301845669885),\n",
       " ('cleaning_applied_0', 0.0),\n",
       " ('cleaning_applied_1', 0.0),\n",
       " ('seccio', 0.0),\n",
       " ('barri', 0.0)]"
      ]
     },
     "execution_count": 244,
     "metadata": {},
     "output_type": "execute_result"
    }
   ],
   "source": [
    "feature_importance_dict = dict(zip(X_test.columns, best_classifier.feature_importances_))\n",
    "\n",
    "# Sort the dictionary based on importances\n",
    "sorted_feature_importance = sorted(feature_importance_dict.items(), key=lambda x: x[1], reverse=True)\n",
    "\n",
    "sorted_feature_importance"
   ]
  },
  {
   "cell_type": "code",
   "execution_count": 245,
   "id": "dc253c8b",
   "metadata": {},
   "outputs": [],
   "source": [
    "import dtreeviz\n",
    "\n",
    "viz = dtreeviz.model(\n",
    "    best_classifier,\n",
    "    X,\n",
    "    y,\n",
    "    target_name=\"value_y\",  # Use 'value_y' as the target variable name\n",
    "    feature_names=X.columns,\n",
    "    class_names=y.unique().astype(str)\n",
    ")\n"
   ]
  },
  {
   "cell_type": "code",
   "execution_count": 248,
   "id": "c75736c4",
   "metadata": {
    "scrolled": true
   },
   "outputs": [],
   "source": [
    "v = viz.view(fancy=True)  \n",
    "v.show()               \n",
    "v.save(\"best_tree_without_neighbours.svg\")"
   ]
  },
  {
   "cell_type": "markdown",
   "id": "cc61bbe5",
   "metadata": {},
   "source": [
    "# Best possible decision tree"
   ]
  },
  {
   "cell_type": "markdown",
   "id": "6c5d7ef6",
   "metadata": {},
   "source": [
    "The idea is to get the best possible tree, hyperparameter and feature - wise."
   ]
  },
  {
   "cell_type": "code",
   "execution_count": 213,
   "id": "4c51dc88",
   "metadata": {},
   "outputs": [],
   "source": [
    "X = df.drop(columns=['value_y'])\n",
    "y = df['value_y']\n",
    "\n",
    "# Split the dataset into training and testing sets\n",
    "X_train, X_test, y_train, y_test = train_test_split(X, y, test_size=0.1, random_state=42)"
   ]
  },
  {
   "cell_type": "code",
   "execution_count": 214,
   "id": "5d376238",
   "metadata": {
    "scrolled": true
   },
   "outputs": [
    {
     "name": "stdout",
     "output_type": "stream",
     "text": [
      "Best F1 Score: 0.7581699346405228\n",
      "Best Features: ['amount_rain_std', 'value_1_5', 'value_1_3', 'value_1_2', 'altmax', 'value_1', 'Velocitat', 'amount_rain_mean_1', 'Longitud_1']\n",
      "Best Hyperparameters: {'max_depth': 16, 'max_features': 0.9360168327534356, 'min_samples_leaf': 5, 'min_samples_split': 11}\n"
     ]
    }
   ],
   "source": [
    "from sklearn.feature_selection import RFE\n",
    "from hyperopt import fmin, tpe, hp, Trials, STATUS_OK\n",
    "from sklearn.tree import DecisionTreeClassifier\n",
    "from sklearn.metrics import f1_score\n",
    "\n",
    "# Define the hyperparameter space\n",
    "space = {\n",
    "    'max_depth': hp.choice('max_depth', range(3, 20)),\n",
    "    'max_features': hp.uniform('max_features', 0.65, 0.95),\n",
    "    'min_samples_leaf': hp.choice('min_samples_leaf', range(3, 20)),\n",
    "    'min_samples_split': hp.choice('min_samples_split', range(10, 35))\n",
    "}\n",
    "\n",
    "def objective(params, X_train_sub, y_train, X_test_sub, y_test):\n",
    "    classifier = DecisionTreeClassifier(**params)\n",
    "    classifier.fit(X_train_sub, y_train)\n",
    "    preds = classifier.predict(X_test_sub)\n",
    "    score = f1_score(y_test, preds)\n",
    "    return {'loss': -score, 'status': STATUS_OK}\n",
    "\n",
    "best_f1_global = float('-inf')\n",
    "best_features_global = None\n",
    "best_hyperparameters_global = None\n",
    "\n",
    "# Apply RFE to get the ranking of features\n",
    "estimator = DecisionTreeClassifier()\n",
    "selector = RFE(estimator, n_features_to_select=1, step=1)\n",
    "selector = selector.fit(X_train, y_train)\n",
    "rankings = selector.ranking_\n",
    "\n",
    "# Sort features by their ranking\n",
    "sorted_features = [f for _, f in sorted(zip(rankings, features))]\n",
    "\n",
    "# Iterate over features based on their ranking\n",
    "for i in range(1, len(sorted_features) + 1):\n",
    "    selected_features = sorted_features[:i]\n",
    "\n",
    "    # Bayesian optimization for the current feature combination\n",
    "    trials = Trials()\n",
    "    best_hyperparams = fmin(fn=lambda params: objective(params, X_train[selected_features], y_train, X_test[selected_features], y_test),\n",
    "                            space=space, algo=tpe.suggest, max_evals=50, trials=trials, verbose=False)\n",
    "\n",
    "    # Check the best F1 score for the current feature combination\n",
    "    best_f1_current = -trials.best_trial['result']['loss']\n",
    "\n",
    "    if best_f1_current > best_f1_global:\n",
    "        best_f1_global = best_f1_current\n",
    "        best_features_global = selected_features\n",
    "        best_hyperparameters_global = best_hyperparams\n",
    "\n",
    "print(\"Best F1 Score:\", best_f1_global)\n",
    "print(\"Best Features:\", best_features_global)\n",
    "print(\"Best Hyperparameters:\", best_hyperparameters_global)\n"
   ]
  },
  {
   "cell_type": "code",
   "execution_count": 215,
   "id": "ff13a52a",
   "metadata": {},
   "outputs": [],
   "source": [
    "mapped_best = {\n",
    "    'max_depth': best_hyperparameters_global['max_depth'] + 3,  # because range starts from 3\n",
    "    'max_features': best_hyperparameters_global['max_features'],\n",
    "    'min_samples_leaf': best_hyperparameters_global['min_samples_leaf'] + 3,  # because range starts from 3\n",
    "    'min_samples_split': best_hyperparameters_global['min_samples_split'] + 10  # because range starts from 10\n",
    "}"
   ]
  },
  {
   "cell_type": "code",
   "execution_count": 216,
   "id": "68c6c56b",
   "metadata": {
    "scrolled": true
   },
   "outputs": [
    {
     "data": {
      "text/html": [
       "<style>#sk-container-id-32 {color: black;}#sk-container-id-32 pre{padding: 0;}#sk-container-id-32 div.sk-toggleable {background-color: white;}#sk-container-id-32 label.sk-toggleable__label {cursor: pointer;display: block;width: 100%;margin-bottom: 0;padding: 0.3em;box-sizing: border-box;text-align: center;}#sk-container-id-32 label.sk-toggleable__label-arrow:before {content: \"▸\";float: left;margin-right: 0.25em;color: #696969;}#sk-container-id-32 label.sk-toggleable__label-arrow:hover:before {color: black;}#sk-container-id-32 div.sk-estimator:hover label.sk-toggleable__label-arrow:before {color: black;}#sk-container-id-32 div.sk-toggleable__content {max-height: 0;max-width: 0;overflow: hidden;text-align: left;background-color: #f0f8ff;}#sk-container-id-32 div.sk-toggleable__content pre {margin: 0.2em;color: black;border-radius: 0.25em;background-color: #f0f8ff;}#sk-container-id-32 input.sk-toggleable__control:checked~div.sk-toggleable__content {max-height: 200px;max-width: 100%;overflow: auto;}#sk-container-id-32 input.sk-toggleable__control:checked~label.sk-toggleable__label-arrow:before {content: \"▾\";}#sk-container-id-32 div.sk-estimator input.sk-toggleable__control:checked~label.sk-toggleable__label {background-color: #d4ebff;}#sk-container-id-32 div.sk-label input.sk-toggleable__control:checked~label.sk-toggleable__label {background-color: #d4ebff;}#sk-container-id-32 input.sk-hidden--visually {border: 0;clip: rect(1px 1px 1px 1px);clip: rect(1px, 1px, 1px, 1px);height: 1px;margin: -1px;overflow: hidden;padding: 0;position: absolute;width: 1px;}#sk-container-id-32 div.sk-estimator {font-family: monospace;background-color: #f0f8ff;border: 1px dotted black;border-radius: 0.25em;box-sizing: border-box;margin-bottom: 0.5em;}#sk-container-id-32 div.sk-estimator:hover {background-color: #d4ebff;}#sk-container-id-32 div.sk-parallel-item::after {content: \"\";width: 100%;border-bottom: 1px solid gray;flex-grow: 1;}#sk-container-id-32 div.sk-label:hover label.sk-toggleable__label {background-color: #d4ebff;}#sk-container-id-32 div.sk-serial::before {content: \"\";position: absolute;border-left: 1px solid gray;box-sizing: border-box;top: 0;bottom: 0;left: 50%;z-index: 0;}#sk-container-id-32 div.sk-serial {display: flex;flex-direction: column;align-items: center;background-color: white;padding-right: 0.2em;padding-left: 0.2em;position: relative;}#sk-container-id-32 div.sk-item {position: relative;z-index: 1;}#sk-container-id-32 div.sk-parallel {display: flex;align-items: stretch;justify-content: center;background-color: white;position: relative;}#sk-container-id-32 div.sk-item::before, #sk-container-id-32 div.sk-parallel-item::before {content: \"\";position: absolute;border-left: 1px solid gray;box-sizing: border-box;top: 0;bottom: 0;left: 50%;z-index: -1;}#sk-container-id-32 div.sk-parallel-item {display: flex;flex-direction: column;z-index: 1;position: relative;background-color: white;}#sk-container-id-32 div.sk-parallel-item:first-child::after {align-self: flex-end;width: 50%;}#sk-container-id-32 div.sk-parallel-item:last-child::after {align-self: flex-start;width: 50%;}#sk-container-id-32 div.sk-parallel-item:only-child::after {width: 0;}#sk-container-id-32 div.sk-dashed-wrapped {border: 1px dashed gray;margin: 0 0.4em 0.5em 0.4em;box-sizing: border-box;padding-bottom: 0.4em;background-color: white;}#sk-container-id-32 div.sk-label label {font-family: monospace;font-weight: bold;display: inline-block;line-height: 1.2em;}#sk-container-id-32 div.sk-label-container {text-align: center;}#sk-container-id-32 div.sk-container {/* jupyter's `normalize.less` sets `[hidden] { display: none; }` but bootstrap.min.css set `[hidden] { display: none !important; }` so we also need the `!important` here to be able to override the default hidden behavior on the sphinx rendered scikit-learn.org. See: https://github.com/scikit-learn/scikit-learn/issues/21755 */display: inline-block !important;position: relative;}#sk-container-id-32 div.sk-text-repr-fallback {display: none;}</style><div id=\"sk-container-id-32\" class=\"sk-top-container\"><div class=\"sk-text-repr-fallback\"><pre>DecisionTreeClassifier(max_depth=19, max_features=0.9360168327534356,\n",
       "                       min_samples_leaf=8, min_samples_split=21)</pre><b>In a Jupyter environment, please rerun this cell to show the HTML representation or trust the notebook. <br />On GitHub, the HTML representation is unable to render, please try loading this page with nbviewer.org.</b></div><div class=\"sk-container\" hidden><div class=\"sk-item\"><div class=\"sk-estimator sk-toggleable\"><input class=\"sk-toggleable__control sk-hidden--visually\" id=\"sk-estimator-id-32\" type=\"checkbox\" checked><label for=\"sk-estimator-id-32\" class=\"sk-toggleable__label sk-toggleable__label-arrow\">DecisionTreeClassifier</label><div class=\"sk-toggleable__content\"><pre>DecisionTreeClassifier(max_depth=19, max_features=0.9360168327534356,\n",
       "                       min_samples_leaf=8, min_samples_split=21)</pre></div></div></div></div></div>"
      ],
      "text/plain": [
       "DecisionTreeClassifier(max_depth=19, max_features=0.9360168327534356,\n",
       "                       min_samples_leaf=8, min_samples_split=21)"
      ]
     },
     "execution_count": 216,
     "metadata": {},
     "output_type": "execute_result"
    }
   ],
   "source": [
    "best_classifier = DecisionTreeClassifier(**{'max_depth': 16, 'max_features': 0.9360168327534356, 'min_samples_leaf': 5, 'min_samples_split': 11, 'random_state': 4})\n",
    "best_classifier.fit(X_train[best_features_global], y_train)"
   ]
  },
  {
   "cell_type": "code",
   "execution_count": 217,
   "id": "8fb2941d",
   "metadata": {},
   "outputs": [
    {
     "data": {
      "text/plain": [
       "{'Accuracy': 0.774869109947644,\n",
       " 'Precision': 0.725,\n",
       " 'Recall': 0.7341772151898734,\n",
       " 'F1 Score': 0.7295597484276729,\n",
       " 'ROC-AUC': 0.8261188969258589}"
      ]
     },
     "execution_count": 217,
     "metadata": {},
     "output_type": "execute_result"
    }
   ],
   "source": [
    "from sklearn.metrics import precision_score, recall_score, f1_score, roc_auc_score\n",
    "\n",
    "# Predict using the best model\n",
    "y_pred_test_expanded = best_classifier.predict(X_test[best_features_global])\n",
    "y_prob_test_expanded = best_classifier.predict_proba(X_test[best_features_global])[:, 1]\n",
    "\n",
    "# Calculate the performance metrics for the test set\n",
    "test_metrics = {\n",
    "    'Accuracy': accuracy_score(y_test, y_pred_test_expanded),\n",
    "    'Precision': precision_score(y_test, y_pred_test_expanded),\n",
    "    'Recall': recall_score(y_test, y_pred_test_expanded),\n",
    "    'F1 Score': f1_score(y_test, y_pred_test_expanded),\n",
    "    'ROC-AUC': roc_auc_score(y_test, y_prob_test_expanded)\n",
    "}\n",
    "\n",
    "test_metrics"
   ]
  },
  {
   "cell_type": "markdown",
   "id": "0b059662",
   "metadata": {},
   "source": [
    "```\n",
    "['amount_rain_std', 'value_1_5', 'value_1_3', 'value_1_2', 'altmax', 'value_1', 'Velocitat', 'amount_rain_mean_1', 'Longitud_1']\n",
    "\n",
    "{'max_depth': 16, 'max_features': 0.9360168327534356, 'min_samples_leaf': 5, 'min_samples_split': 11}\n",
    "\n",
    "{'Accuracy': 0.774869109947644,\n",
    " 'Precision': 0.725,\n",
    " 'Recall': 0.7341772151898734,\n",
    " 'F1 Score': 0.7295597484276729,\n",
    " 'ROC-AUC': 0.8261188969258589}\n",
    " ```"
   ]
  },
  {
   "cell_type": "code",
   "execution_count": 230,
   "id": "f64316d5",
   "metadata": {},
   "outputs": [
    {
     "data": {
      "text/plain": [
       "[('value_1_5', 0.26785628202856754),\n",
       " ('amount_rain_std', 0.16483097142123013),\n",
       " ('value_1_2', 0.16466456242988545),\n",
       " ('altmax', 0.09673028784446126),\n",
       " ('value_1_3', 0.08205223036018434),\n",
       " ('Velocitat', 0.07888467622901407),\n",
       " ('value_1', 0.06212096604696657),\n",
       " ('amount_rain_mean_1', 0.05953181801855086),\n",
       " ('Longitud_1', 0.023328205621139762)]"
      ]
     },
     "execution_count": 230,
     "metadata": {},
     "output_type": "execute_result"
    }
   ],
   "source": [
    "feature_importance_dict = dict(zip(best_features_global, best_classifier.feature_importances_))\n",
    "\n",
    "# Sort the dictionary based on importances\n",
    "sorted_feature_importance = sorted(feature_importance_dict.items(), key=lambda x: x[1], reverse=True)\n",
    "\n",
    "sorted_feature_importance"
   ]
  },
  {
   "cell_type": "code",
   "execution_count": 226,
   "id": "e919cb33",
   "metadata": {},
   "outputs": [],
   "source": [
    "import dtreeviz\n",
    "\n",
    "viz = dtreeviz.model(\n",
    "    best_classifier,\n",
    "    X[best_features_global],\n",
    "    y,\n",
    "    target_name=\"value_y\",  # Use 'value_y' as the target variable name\n",
    "    feature_names=best_features_global,\n",
    "    class_names=y.unique().astype(str)\n",
    ")\n"
   ]
  },
  {
   "cell_type": "code",
   "execution_count": 227,
   "id": "41dd65c2",
   "metadata": {},
   "outputs": [
    {
     "name": "stderr",
     "output_type": "stream",
     "text": [
      "/Users/marc.ribalta/anaconda3/envs/phd/lib/python3.11/site-packages/sklearn/base.py:464: UserWarning: X does not have valid feature names, but DecisionTreeClassifier was fitted with feature names\n"
     ]
    }
   ],
   "source": [
    "v = viz.view(fancy=True)  \n",
    "v.show()               \n",
    "v.save(\"best_tree.svg\")"
   ]
  },
  {
   "cell_type": "code",
   "execution_count": 228,
   "id": "8aca53db",
   "metadata": {},
   "outputs": [],
   "source": [
    "v = viz.view(fancy=False)\n",
    "v.show()               \n",
    "v.save(\"best_tree_unfancy.svg\")"
   ]
  },
  {
   "cell_type": "code",
   "execution_count": null,
   "id": "c3c49ed8",
   "metadata": {},
   "outputs": [],
   "source": []
  }
 ],
 "metadata": {
  "kernelspec": {
   "display_name": "Python 3 (ipykernel)",
   "language": "python",
   "name": "python3"
  },
  "language_info": {
   "codemirror_mode": {
    "name": "ipython",
    "version": 3
   },
   "file_extension": ".py",
   "mimetype": "text/x-python",
   "name": "python",
   "nbconvert_exporter": "python",
   "pygments_lexer": "ipython3",
   "version": "3.11.4"
  }
 },
 "nbformat": 4,
 "nbformat_minor": 5
}
