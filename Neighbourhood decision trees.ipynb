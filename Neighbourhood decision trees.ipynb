{
 "cells": [
  {
   "cell_type": "code",
   "execution_count": 1,
   "id": "b72f08b8",
   "metadata": {},
   "outputs": [],
   "source": [
    "import pandas as pd\n",
    "import matplotlib.pyplot as plt\n",
    "import seaborn as sns\n",
    "\n",
    "df = pd.read_csv('../../../data/final/dtdata.csv', index_col=0)"
   ]
  },
  {
   "cell_type": "code",
   "execution_count": 2,
   "id": "34e25425",
   "metadata": {},
   "outputs": [],
   "source": [
    "new_column_names = ['seccio', 'altmax', 'amplmax', 'perime', 'Longitud', 'Velocitat',\n",
    "                   'AltAigua', 'Cabal', 'seccio_1', 'altmax_1', 'amplmax_1', 'perime_1',\n",
    "                   'Longitud_1', 'Velocitat_1', 'AltAigua_1', 'Cabal_1', 'seccio_2',\n",
    "                   'altmax_2', 'amplmax_2', 'perime_2', 'Longitud_2', 'Velocitat_2',\n",
    "                   'AltAigua_2', 'Cabal_2', 'seccio_3', 'altmax_3', 'amplmax_3',\n",
    "                   'perime_3', 'Longitud_3', 'Velocitat_3', 'AltAigua_3', 'Cabal_3',\n",
    "                   'seccio_4', 'altmax_4', 'amplmax_4', 'perime_4', 'Longitud_4',\n",
    "                   'Velocitat_4', 'AltAigua_4', 'Cabal_4', 'seccio_5', 'altmax_5',\n",
    "                   'amplmax_5', 'perime_5', 'Longitud_5', 'Velocitat_5', 'AltAigua_5',\n",
    "                   'Cabal_5', 'barri']\n",
    "\n",
    "# Get the current column names\n",
    "current_column_names = df.columns\n",
    "\n",
    "# Replace the names of the last 49 columns\n",
    "df.columns = current_column_names[:-49].tolist() + new_column_names\n",
    "df.drop('value_2', axis=1, inplace=True)"
   ]
  },
  {
   "cell_type": "code",
   "execution_count": 3,
   "id": "582d4487",
   "metadata": {},
   "outputs": [
    {
     "name": "stderr",
     "output_type": "stream",
     "text": [
      "IProgress not found. Please update jupyter and ipywidgets. See https://ipywidgets.readthedocs.io/en/stable/user_install.html\n"
     ]
    }
   ],
   "source": [
    "from sklearn.metrics import accuracy_score, precision_score, recall_score, f1_score, make_scorer, classification_report, confusion_matrix\n",
    "from sklearn.model_selection import cross_val_score\n",
    "from sklearn.model_selection import train_test_split\n",
    "from sklearn.tree import DecisionTreeClassifier\n",
    "from sklearn.metrics import f1_score\n",
    "from sklearn.base import clone\n",
    "from sklearn.datasets import make_classification\n",
    "import shap\n",
    "import dtreeviz\n",
    "from dtreeviz import decision_boundaries"
   ]
  },
  {
   "cell_type": "markdown",
   "id": "f8db3cba",
   "metadata": {},
   "source": [
    "# Training a tree with only the features of the section to be predicted"
   ]
  },
  {
   "cell_type": "code",
   "execution_count": 4,
   "id": "b28e7f6b",
   "metadata": {},
   "outputs": [],
   "source": [
    "df = df.loc[df.barri != 0]"
   ]
  },
  {
   "cell_type": "code",
   "execution_count": 5,
   "id": "ac2d7556",
   "metadata": {},
   "outputs": [],
   "source": [
    "X = df.drop(df.filter(regex=(\"(_[0-5]_[0-5]|_[2-5])\")).columns, \n",
    "        axis=1)\n",
    "y= X['value_y']\n",
    "X.drop(['amount_rain_std_1', 'amount_rain_mean_1', 'altmax_1',\n",
    "        'Longitud_1', 'Velocitat_1', 'Cabal_1', 'value_y',\n",
    "        'seccio_1', 'amplmax_1', 'perime_1', 'AltAigua_1'],\n",
    "       axis=1, inplace=True)"
   ]
  },
  {
   "cell_type": "code",
   "execution_count": 6,
   "id": "87318da0",
   "metadata": {},
   "outputs": [],
   "source": [
    "# Split the dataset into training and testing sets\n",
    "X_train, X_test, y_train, y_test = train_test_split(X, y, test_size=0.1, random_state=4)"
   ]
  },
  {
   "cell_type": "code",
   "execution_count": 7,
   "id": "335ba09a",
   "metadata": {
    "scrolled": true
   },
   "outputs": [
    {
     "data": {
      "text/html": [
       "<style>#sk-container-id-1 {color: black;}#sk-container-id-1 pre{padding: 0;}#sk-container-id-1 div.sk-toggleable {background-color: white;}#sk-container-id-1 label.sk-toggleable__label {cursor: pointer;display: block;width: 100%;margin-bottom: 0;padding: 0.3em;box-sizing: border-box;text-align: center;}#sk-container-id-1 label.sk-toggleable__label-arrow:before {content: \"▸\";float: left;margin-right: 0.25em;color: #696969;}#sk-container-id-1 label.sk-toggleable__label-arrow:hover:before {color: black;}#sk-container-id-1 div.sk-estimator:hover label.sk-toggleable__label-arrow:before {color: black;}#sk-container-id-1 div.sk-toggleable__content {max-height: 0;max-width: 0;overflow: hidden;text-align: left;background-color: #f0f8ff;}#sk-container-id-1 div.sk-toggleable__content pre {margin: 0.2em;color: black;border-radius: 0.25em;background-color: #f0f8ff;}#sk-container-id-1 input.sk-toggleable__control:checked~div.sk-toggleable__content {max-height: 200px;max-width: 100%;overflow: auto;}#sk-container-id-1 input.sk-toggleable__control:checked~label.sk-toggleable__label-arrow:before {content: \"▾\";}#sk-container-id-1 div.sk-estimator input.sk-toggleable__control:checked~label.sk-toggleable__label {background-color: #d4ebff;}#sk-container-id-1 div.sk-label input.sk-toggleable__control:checked~label.sk-toggleable__label {background-color: #d4ebff;}#sk-container-id-1 input.sk-hidden--visually {border: 0;clip: rect(1px 1px 1px 1px);clip: rect(1px, 1px, 1px, 1px);height: 1px;margin: -1px;overflow: hidden;padding: 0;position: absolute;width: 1px;}#sk-container-id-1 div.sk-estimator {font-family: monospace;background-color: #f0f8ff;border: 1px dotted black;border-radius: 0.25em;box-sizing: border-box;margin-bottom: 0.5em;}#sk-container-id-1 div.sk-estimator:hover {background-color: #d4ebff;}#sk-container-id-1 div.sk-parallel-item::after {content: \"\";width: 100%;border-bottom: 1px solid gray;flex-grow: 1;}#sk-container-id-1 div.sk-label:hover label.sk-toggleable__label {background-color: #d4ebff;}#sk-container-id-1 div.sk-serial::before {content: \"\";position: absolute;border-left: 1px solid gray;box-sizing: border-box;top: 0;bottom: 0;left: 50%;z-index: 0;}#sk-container-id-1 div.sk-serial {display: flex;flex-direction: column;align-items: center;background-color: white;padding-right: 0.2em;padding-left: 0.2em;position: relative;}#sk-container-id-1 div.sk-item {position: relative;z-index: 1;}#sk-container-id-1 div.sk-parallel {display: flex;align-items: stretch;justify-content: center;background-color: white;position: relative;}#sk-container-id-1 div.sk-item::before, #sk-container-id-1 div.sk-parallel-item::before {content: \"\";position: absolute;border-left: 1px solid gray;box-sizing: border-box;top: 0;bottom: 0;left: 50%;z-index: -1;}#sk-container-id-1 div.sk-parallel-item {display: flex;flex-direction: column;z-index: 1;position: relative;background-color: white;}#sk-container-id-1 div.sk-parallel-item:first-child::after {align-self: flex-end;width: 50%;}#sk-container-id-1 div.sk-parallel-item:last-child::after {align-self: flex-start;width: 50%;}#sk-container-id-1 div.sk-parallel-item:only-child::after {width: 0;}#sk-container-id-1 div.sk-dashed-wrapped {border: 1px dashed gray;margin: 0 0.4em 0.5em 0.4em;box-sizing: border-box;padding-bottom: 0.4em;background-color: white;}#sk-container-id-1 div.sk-label label {font-family: monospace;font-weight: bold;display: inline-block;line-height: 1.2em;}#sk-container-id-1 div.sk-label-container {text-align: center;}#sk-container-id-1 div.sk-container {/* jupyter's `normalize.less` sets `[hidden] { display: none; }` but bootstrap.min.css set `[hidden] { display: none !important; }` so we also need the `!important` here to be able to override the default hidden behavior on the sphinx rendered scikit-learn.org. See: https://github.com/scikit-learn/scikit-learn/issues/21755 */display: inline-block !important;position: relative;}#sk-container-id-1 div.sk-text-repr-fallback {display: none;}</style><div id=\"sk-container-id-1\" class=\"sk-top-container\"><div class=\"sk-text-repr-fallback\"><pre>DecisionTreeClassifier(max_depth=7, max_features=0.794612916790575,\n",
       "                       min_samples_leaf=12, min_samples_split=19,\n",
       "                       random_state=4)</pre><b>In a Jupyter environment, please rerun this cell to show the HTML representation or trust the notebook. <br />On GitHub, the HTML representation is unable to render, please try loading this page with nbviewer.org.</b></div><div class=\"sk-container\" hidden><div class=\"sk-item\"><div class=\"sk-estimator sk-toggleable\"><input class=\"sk-toggleable__control sk-hidden--visually\" id=\"sk-estimator-id-1\" type=\"checkbox\" checked><label for=\"sk-estimator-id-1\" class=\"sk-toggleable__label sk-toggleable__label-arrow\">DecisionTreeClassifier</label><div class=\"sk-toggleable__content\"><pre>DecisionTreeClassifier(max_depth=7, max_features=0.794612916790575,\n",
       "                       min_samples_leaf=12, min_samples_split=19,\n",
       "                       random_state=4)</pre></div></div></div></div></div>"
      ],
      "text/plain": [
       "DecisionTreeClassifier(max_depth=7, max_features=0.794612916790575,\n",
       "                       min_samples_leaf=12, min_samples_split=19,\n",
       "                       random_state=4)"
      ]
     },
     "execution_count": 7,
     "metadata": {},
     "output_type": "execute_result"
    }
   ],
   "source": [
    "model_1 = DecisionTreeClassifier(**{'max_depth': 7, 'max_features': 0.794612916790575, 'min_samples_leaf': 12, 'min_samples_split': 19, 'random_state': 4})\n",
    "model_1.fit(X_train, y_train)"
   ]
  },
  {
   "cell_type": "code",
   "execution_count": 8,
   "id": "a9f51283",
   "metadata": {},
   "outputs": [
    {
     "data": {
      "text/plain": [
       "{'Accuracy': 0.7222222222222222,\n",
       " 'Precision': 0.5,\n",
       " 'Recall': 0.4,\n",
       " 'F1 Score': 0.4444444444444445,\n",
       " 'ROC-AUC': 0.7230769230769232}"
      ]
     },
     "execution_count": 8,
     "metadata": {},
     "output_type": "execute_result"
    }
   ],
   "source": [
    "from sklearn.metrics import precision_score, recall_score, f1_score, roc_auc_score\n",
    "\n",
    "# Predict using the best model\n",
    "y_pred_test_expanded = model_1.predict(X_test)\n",
    "y_prob_test_expanded = model_1.predict_proba(X_test)[:, 1]\n",
    "\n",
    "# Calculate the performance metrics for the test set\n",
    "test_metrics = {\n",
    "    'Accuracy': accuracy_score(y_test, y_pred_test_expanded),\n",
    "    'Precision': precision_score(y_test, y_pred_test_expanded),\n",
    "    'Recall': recall_score(y_test, y_pred_test_expanded),\n",
    "    'F1 Score': f1_score(y_test, y_pred_test_expanded),\n",
    "    'ROC-AUC': roc_auc_score(y_test, y_prob_test_expanded)\n",
    "}\n",
    "\n",
    "test_metrics"
   ]
  },
  {
   "cell_type": "markdown",
   "id": "b7b6fbc4",
   "metadata": {},
   "source": [
    "```\n",
    "Tot:\n",
    "{'Accuracy': 0.7643979057591623,\n",
    " 'Precision': 0.6710526315789473,\n",
    " 'Recall': 0.7183098591549296,\n",
    " 'F1 Score': 0.6938775510204082,\n",
    " 'ROC-AUC': 0.797593896713615}\n",
    "\n",
    "Poblenou:\n",
    "{'Accuracy': 0.7298850574712644,\n",
    " 'Precision': 0.726027397260274,\n",
    " 'Recall': 0.6625,\n",
    " 'F1 Score': 0.6928104575163399,\n",
    " 'ROC-AUC': 0.8269946808510638}\n",
    " \n",
    " Carmel - Sangervasi:\n",
    " {'Accuracy': 0.7222222222222222,\n",
    " 'Precision': 0.5,\n",
    " 'Recall': 0.4,\n",
    " 'F1 Score': 0.4444444444444445,\n",
    " 'ROC-AUC': 0.7230769230769232}\n",
    " ```"
   ]
  },
  {
   "cell_type": "code",
   "execution_count": null,
   "id": "2efcec65",
   "metadata": {},
   "outputs": [],
   "source": []
  }
 ],
 "metadata": {
  "kernelspec": {
   "display_name": "Python 3 (ipykernel)",
   "language": "python",
   "name": "python3"
  },
  "language_info": {
   "codemirror_mode": {
    "name": "ipython",
    "version": 3
   },
   "file_extension": ".py",
   "mimetype": "text/x-python",
   "name": "python",
   "nbconvert_exporter": "python",
   "pygments_lexer": "ipython3",
   "version": "3.11.4"
  }
 },
 "nbformat": 4,
 "nbformat_minor": 5
}
